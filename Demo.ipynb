{
 "cells": [
  {
   "cell_type": "code",
   "execution_count": 1,
   "metadata": {},
   "outputs": [],
   "source": [
    "from ising import *\n",
    "import PIL\n",
    "from PIL import Image"
   ]
  },
  {
   "cell_type": "code",
   "execution_count": 2,
   "metadata": {},
   "outputs": [],
   "source": [
    "I = Ising(100, 5, J=1)\n",
    "T = 1"
   ]
  },
  {
   "cell_type": "code",
   "execution_count": 3,
   "metadata": {},
   "outputs": [],
   "source": [
    "from ipywidgets import interact\n",
    "\n",
    "def display_ising_sequence(images, size, m=False):\n",
    "    def _show(frame=(0, len(images) - 1)):\n",
    "        return display_spin_field(images[frame], size, m)\n",
    "    return interact(_show)"
   ]
  },
  {
   "cell_type": "code",
   "execution_count": 4,
   "metadata": {},
   "outputs": [],
   "source": [
    "def display_spin_field(field, size, m):\n",
    "    if m:\n",
    "        return(plt.imshow(field, cmap='Greys_r', vmin=-1., vmax=1.))\n",
    "    return Image.fromarray(np.uint8((field + 1) * 0.5 * 255)).resize((size*2,size), resample=PIL.Image.BILINEAR)"
   ]
  },
  {
   "cell_type": "code",
   "execution_count": 40,
   "metadata": {
    "scrolled": true
   },
   "outputs": [
    {
     "data": {
      "application/vnd.jupyter.widget-view+json": {
       "model_id": "4601933adeca42839858b42359612122",
       "version_major": 2,
       "version_minor": 0
      },
      "text/plain": [
       "interactive(children=(IntSlider(value=49, description='frame', max=99), Output()), _dom_classes=('widget-inter…"
      ]
     },
     "metadata": {},
     "output_type": "display_data"
    }
   ],
   "source": [
    "I_1 = Ising(200, 1, J=1)\n",
    "I_2 = Ising(200, 1, J=-1)\n",
    "T = 0.75\n",
    "images=[]\n",
    "for i in range(100):\n",
    "    images.append(np.concatenate((I_1.grid.copy(), I_2.grid.copy()), axis=1))\n",
    "    I_1.ising_step(T)\n",
    "    I_2.ising_step(T)\n",
    "    \n",
    "display_ising_sequence(images, 300);"
   ]
  },
  {
   "cell_type": "code",
   "execution_count": 41,
   "metadata": {},
   "outputs": [
    {
     "name": "stdout",
     "output_type": "stream",
     "text": [
      "Mean_Energy (Ferromagnetic):-1.9702375, Mean Squared Magnetization (Ferromagnetic):0.4684718025\n"
     ]
    }
   ],
   "source": [
    "print('Mean_Energy (Ferromagnetic):{}, Mean Squared Magnetization (Ferromagnetic):{}'.format(I_1.E, I_1.m))"
   ]
  },
  {
   "cell_type": "code",
   "execution_count": 42,
   "metadata": {},
   "outputs": [
    {
     "name": "stdout",
     "output_type": "stream",
     "text": [
      "Mean_Energy (Antiferromagnetic):-1.9614875, Mean Squared Magnetization (Antiferromagnetic):5.625e-07\n"
     ]
    }
   ],
   "source": [
    "print('Mean_Energy (Antiferromagnetic):{}, Mean Squared Magnetization (Antiferromagnetic):{}'.format(I_2.E, I_2.m))"
   ]
  },
  {
   "cell_type": "code",
   "execution_count": 17,
   "metadata": {},
   "outputs": [
    {
     "data": {
      "application/vnd.jupyter.widget-view+json": {
       "model_id": "bb4b2ad46e30403f832df85987c79ada",
       "version_major": 2,
       "version_minor": 0
      },
      "text/plain": [
       "interactive(children=(IntSlider(value=49, description='frame', max=99), Output()), _dom_classes=('widget-inter…"
      ]
     },
     "metadata": {},
     "output_type": "display_data"
    }
   ],
   "source": [
    "I_10 = Ising(16, 1, J=1)\n",
    "I_20 = Ising(16, 1, J=-1)\n",
    "T = 1\n",
    "images=[]\n",
    "for i in range(100):\n",
    "    images.append(np.concatenate((I_10.grid.copy(), I_20.grid.copy()), axis=1))\n",
    "    I_10.ising_step(T)\n",
    "    I_20.ising_step(T)\n",
    "    \n",
    "display_ising_sequence(images, 200, m=True);"
   ]
  },
  {
   "cell_type": "code",
   "execution_count": 18,
   "metadata": {},
   "outputs": [
    {
     "name": "stdout",
     "output_type": "stream",
     "text": [
      "Mean_Energy (Ferromagnetic):-1.873046875, Mean Squared Magnetization (Ferromagnetic):1.0\n"
     ]
    }
   ],
   "source": [
    "print('Mean_Energy (Ferromagnetic):{}, Mean Squared Magnetization (Ferromagnetic):{}'.format(I_10.E, I_10.m))"
   ]
  },
  {
   "cell_type": "code",
   "execution_count": 19,
   "metadata": {},
   "outputs": [
    {
     "name": "stdout",
     "output_type": "stream",
     "text": [
      "Mean_Energy (Antiferromagnetic):-1.873046875, Mean Squared Magnetization (Antiferromagnetic):0.0\n"
     ]
    }
   ],
   "source": [
    "print('Mean_Energy (Antiferromagnetic):{}, Mean Squared Magnetization (Antiferromagnetic):{}'.format(I_20.E, I_20.m))"
   ]
  },
  {
   "cell_type": "code",
   "execution_count": 20,
   "metadata": {},
   "outputs": [
    {
     "data": {
      "application/vnd.jupyter.widget-view+json": {
       "model_id": "802519dfa99e4fe380d51df179f9c2f0",
       "version_major": 2,
       "version_minor": 0
      },
      "text/plain": [
       "interactive(children=(IntSlider(value=49, description='frame', max=99), Output()), _dom_classes=('widget-inter…"
      ]
     },
     "metadata": {},
     "output_type": "display_data"
    }
   ],
   "source": [
    "I_3 = Ising(200, 1, J=1)\n",
    "I_4 = Ising(200, 1, J=-1)\n",
    "T = 10\n",
    "images=[]\n",
    "for i in range(100):\n",
    "    images.append(np.concatenate((I_3.grid.copy(), I_4.grid.copy()), axis=1))\n",
    "    I_3.ising_step(T)\n",
    "    I_4.ising_step(T)\n",
    "    \n",
    "display_ising_sequence(images, 300);"
   ]
  },
  {
   "cell_type": "code",
   "execution_count": 21,
   "metadata": {},
   "outputs": [
    {
     "name": "stdout",
     "output_type": "stream",
     "text": [
      "Mean_Energy (Ferromagnetic):-0.1933125, Mean Squared Magnetization (Ferromagnetic):2.1622499999999995e-05\n"
     ]
    }
   ],
   "source": [
    "print('Mean_Energy (Ferromagnetic):{}, Mean Squared Magnetization (Ferromagnetic):{}'.format(I_3.E, I_3.m))"
   ]
  },
  {
   "cell_type": "code",
   "execution_count": 22,
   "metadata": {},
   "outputs": [
    {
     "name": "stdout",
     "output_type": "stream",
     "text": [
      "Mean_Energy (Antiferromagnetic):-0.1943125, Mean Squared Magnetization (Antiferromagnetic):6.502500000000001e-06\n"
     ]
    }
   ],
   "source": [
    "print('Mean_Energy (Antiferromagnetic):{}, Mean Squared Magnetization (Antiferromagnetic):{}'.format(I_4.E, I_4.m))"
   ]
  },
  {
   "cell_type": "code",
   "execution_count": 36,
   "metadata": {},
   "outputs": [
    {
     "data": {
      "application/vnd.jupyter.widget-view+json": {
       "model_id": "9eb66470d2bc4725b99d18fb8d2e4ca4",
       "version_major": 2,
       "version_minor": 0
      },
      "text/plain": [
       "interactive(children=(IntSlider(value=49, description='frame', max=99), Output()), _dom_classes=('widget-inter…"
      ]
     },
     "metadata": {},
     "output_type": "display_data"
    }
   ],
   "source": [
    "I_30 = Ising(16, 1, J=1, ext_field = -10)\n",
    "I_40 = Ising(16, 1, J=-1, ext_field = -10)\n",
    "T = 1\n",
    "images=[]\n",
    "for i in range(100):\n",
    "    images.append(np.concatenate((I_30.grid.copy(), I_40.grid.copy()), axis=1))\n",
    "    I_30.ising_step(T)\n",
    "    I_40.ising_step(T)\n",
    "    \n",
    "display_ising_sequence(images, 200, m=True);"
   ]
  },
  {
   "cell_type": "code",
   "execution_count": 37,
   "metadata": {},
   "outputs": [
    {
     "name": "stdout",
     "output_type": "stream",
     "text": [
      "Mean_Energy (Ferromagnetic):-1.873046875, Mean Squared Magnetization (Ferromagnetic):1.0\n"
     ]
    }
   ],
   "source": [
    "print('Mean_Energy (Ferromagnetic):{}, Mean Squared Magnetization (Ferromagnetic):{}'.format(I_30.E, I_30.m))"
   ]
  },
  {
   "cell_type": "code",
   "execution_count": 39,
   "metadata": {},
   "outputs": [
    {
     "name": "stdout",
     "output_type": "stream",
     "text": [
      "Mean_Energy (Antiferromagnetic):1.873046875, Mean Squared Magnetization (Ferromagnetic):1.0\n"
     ]
    }
   ],
   "source": [
    "print('Mean_Energy (Antiferromagnetic):{}, Mean Squared Magnetization (Ferromagnetic):{}'.format(I_40.E, I_40.m))"
   ]
  },
  {
   "cell_type": "code",
   "execution_count": null,
   "metadata": {},
   "outputs": [],
   "source": []
  }
 ],
 "metadata": {
  "kernelspec": {
   "display_name": "Python 3",
   "language": "python",
   "name": "python3"
  },
  "language_info": {
   "codemirror_mode": {
    "name": "ipython",
    "version": 3
   },
   "file_extension": ".py",
   "mimetype": "text/x-python",
   "name": "python",
   "nbconvert_exporter": "python",
   "pygments_lexer": "ipython3",
   "version": "3.6.10"
  }
 },
 "nbformat": 4,
 "nbformat_minor": 4
}
